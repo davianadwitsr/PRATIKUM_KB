{
 "cells": [
  {
   "cell_type": "markdown",
   "id": "8d42c1af-24c7-4548-8d61-ff549ad0987e",
   "metadata": {},
   "source": [
    "# Postest 6"
   ]
  },
  {
   "cell_type": "markdown",
   "id": "6fbaf847-5fd8-4e6e-b6c9-972a30fc26c5",
   "metadata": {},
   "source": [
    "### Nama : Daviana Dwitasari\n",
    "### NIM : 2109106064"
   ]
  },
  {
   "cell_type": "code",
   "execution_count": 1,
   "id": "99ac8bad-142e-4568-a917-c075ac5df0f6",
   "metadata": {},
   "outputs": [],
   "source": [
    "import pandas as pd\n",
    "import numpy as np\n",
    "import tensorflow as tf\n",
    "from sklearn.model_selection import train_test_split\n",
    "from sklearn.preprocessing import StandardScaler\n",
    "from sklearn.metrics import accuracy_score\n",
    "from tensorflow import keras\n",
    "import matplotlib.pyplot as plt"
   ]
  },
  {
   "cell_type": "code",
   "execution_count": 2,
   "id": "acf59e77-463e-4014-aea9-8f939ce2bae8",
   "metadata": {},
   "outputs": [
    {
     "data": {
      "text/html": [
       "<div>\n",
       "<style scoped>\n",
       "    .dataframe tbody tr th:only-of-type {\n",
       "        vertical-align: middle;\n",
       "    }\n",
       "\n",
       "    .dataframe tbody tr th {\n",
       "        vertical-align: top;\n",
       "    }\n",
       "\n",
       "    .dataframe thead th {\n",
       "        text-align: right;\n",
       "    }\n",
       "</style>\n",
       "<table border=\"1\" class=\"dataframe\">\n",
       "  <thead>\n",
       "    <tr style=\"text-align: right;\">\n",
       "      <th></th>\n",
       "      <th>id</th>\n",
       "      <th>gender</th>\n",
       "      <th>age</th>\n",
       "      <th>hypertension</th>\n",
       "      <th>heart_disease</th>\n",
       "      <th>ever_married</th>\n",
       "      <th>work_type</th>\n",
       "      <th>Residence_type</th>\n",
       "      <th>avg_glucose_level</th>\n",
       "      <th>bmi</th>\n",
       "      <th>smoking_status</th>\n",
       "      <th>stroke</th>\n",
       "    </tr>\n",
       "  </thead>\n",
       "  <tbody>\n",
       "    <tr>\n",
       "      <th>0</th>\n",
       "      <td>9046</td>\n",
       "      <td>Male</td>\n",
       "      <td>67.0</td>\n",
       "      <td>0</td>\n",
       "      <td>1</td>\n",
       "      <td>Yes</td>\n",
       "      <td>Private</td>\n",
       "      <td>Urban</td>\n",
       "      <td>228.69</td>\n",
       "      <td>36.6</td>\n",
       "      <td>formerly smoked</td>\n",
       "      <td>1</td>\n",
       "    </tr>\n",
       "    <tr>\n",
       "      <th>1</th>\n",
       "      <td>51676</td>\n",
       "      <td>Female</td>\n",
       "      <td>61.0</td>\n",
       "      <td>0</td>\n",
       "      <td>0</td>\n",
       "      <td>Yes</td>\n",
       "      <td>Self-employed</td>\n",
       "      <td>Rural</td>\n",
       "      <td>202.21</td>\n",
       "      <td>NaN</td>\n",
       "      <td>never smoked</td>\n",
       "      <td>1</td>\n",
       "    </tr>\n",
       "    <tr>\n",
       "      <th>2</th>\n",
       "      <td>31112</td>\n",
       "      <td>Male</td>\n",
       "      <td>80.0</td>\n",
       "      <td>0</td>\n",
       "      <td>1</td>\n",
       "      <td>Yes</td>\n",
       "      <td>Private</td>\n",
       "      <td>Rural</td>\n",
       "      <td>105.92</td>\n",
       "      <td>32.5</td>\n",
       "      <td>never smoked</td>\n",
       "      <td>1</td>\n",
       "    </tr>\n",
       "    <tr>\n",
       "      <th>3</th>\n",
       "      <td>60182</td>\n",
       "      <td>Female</td>\n",
       "      <td>49.0</td>\n",
       "      <td>0</td>\n",
       "      <td>0</td>\n",
       "      <td>Yes</td>\n",
       "      <td>Private</td>\n",
       "      <td>Urban</td>\n",
       "      <td>171.23</td>\n",
       "      <td>34.4</td>\n",
       "      <td>smokes</td>\n",
       "      <td>1</td>\n",
       "    </tr>\n",
       "    <tr>\n",
       "      <th>4</th>\n",
       "      <td>1665</td>\n",
       "      <td>Female</td>\n",
       "      <td>79.0</td>\n",
       "      <td>1</td>\n",
       "      <td>0</td>\n",
       "      <td>Yes</td>\n",
       "      <td>Self-employed</td>\n",
       "      <td>Rural</td>\n",
       "      <td>174.12</td>\n",
       "      <td>24.0</td>\n",
       "      <td>never smoked</td>\n",
       "      <td>1</td>\n",
       "    </tr>\n",
       "    <tr>\n",
       "      <th>...</th>\n",
       "      <td>...</td>\n",
       "      <td>...</td>\n",
       "      <td>...</td>\n",
       "      <td>...</td>\n",
       "      <td>...</td>\n",
       "      <td>...</td>\n",
       "      <td>...</td>\n",
       "      <td>...</td>\n",
       "      <td>...</td>\n",
       "      <td>...</td>\n",
       "      <td>...</td>\n",
       "      <td>...</td>\n",
       "    </tr>\n",
       "    <tr>\n",
       "      <th>5105</th>\n",
       "      <td>18234</td>\n",
       "      <td>Female</td>\n",
       "      <td>80.0</td>\n",
       "      <td>1</td>\n",
       "      <td>0</td>\n",
       "      <td>Yes</td>\n",
       "      <td>Private</td>\n",
       "      <td>Urban</td>\n",
       "      <td>83.75</td>\n",
       "      <td>NaN</td>\n",
       "      <td>never smoked</td>\n",
       "      <td>0</td>\n",
       "    </tr>\n",
       "    <tr>\n",
       "      <th>5106</th>\n",
       "      <td>44873</td>\n",
       "      <td>Female</td>\n",
       "      <td>81.0</td>\n",
       "      <td>0</td>\n",
       "      <td>0</td>\n",
       "      <td>Yes</td>\n",
       "      <td>Self-employed</td>\n",
       "      <td>Urban</td>\n",
       "      <td>125.20</td>\n",
       "      <td>40.0</td>\n",
       "      <td>never smoked</td>\n",
       "      <td>0</td>\n",
       "    </tr>\n",
       "    <tr>\n",
       "      <th>5107</th>\n",
       "      <td>19723</td>\n",
       "      <td>Female</td>\n",
       "      <td>35.0</td>\n",
       "      <td>0</td>\n",
       "      <td>0</td>\n",
       "      <td>Yes</td>\n",
       "      <td>Self-employed</td>\n",
       "      <td>Rural</td>\n",
       "      <td>82.99</td>\n",
       "      <td>30.6</td>\n",
       "      <td>never smoked</td>\n",
       "      <td>0</td>\n",
       "    </tr>\n",
       "    <tr>\n",
       "      <th>5108</th>\n",
       "      <td>37544</td>\n",
       "      <td>Male</td>\n",
       "      <td>51.0</td>\n",
       "      <td>0</td>\n",
       "      <td>0</td>\n",
       "      <td>Yes</td>\n",
       "      <td>Private</td>\n",
       "      <td>Rural</td>\n",
       "      <td>166.29</td>\n",
       "      <td>25.6</td>\n",
       "      <td>formerly smoked</td>\n",
       "      <td>0</td>\n",
       "    </tr>\n",
       "    <tr>\n",
       "      <th>5109</th>\n",
       "      <td>44679</td>\n",
       "      <td>Female</td>\n",
       "      <td>44.0</td>\n",
       "      <td>0</td>\n",
       "      <td>0</td>\n",
       "      <td>Yes</td>\n",
       "      <td>Govt_job</td>\n",
       "      <td>Urban</td>\n",
       "      <td>85.28</td>\n",
       "      <td>26.2</td>\n",
       "      <td>Unknown</td>\n",
       "      <td>0</td>\n",
       "    </tr>\n",
       "  </tbody>\n",
       "</table>\n",
       "<p>5110 rows × 12 columns</p>\n",
       "</div>"
      ],
      "text/plain": [
       "         id  gender   age  hypertension  heart_disease ever_married  \\\n",
       "0      9046    Male  67.0             0              1          Yes   \n",
       "1     51676  Female  61.0             0              0          Yes   \n",
       "2     31112    Male  80.0             0              1          Yes   \n",
       "3     60182  Female  49.0             0              0          Yes   \n",
       "4      1665  Female  79.0             1              0          Yes   \n",
       "...     ...     ...   ...           ...            ...          ...   \n",
       "5105  18234  Female  80.0             1              0          Yes   \n",
       "5106  44873  Female  81.0             0              0          Yes   \n",
       "5107  19723  Female  35.0             0              0          Yes   \n",
       "5108  37544    Male  51.0             0              0          Yes   \n",
       "5109  44679  Female  44.0             0              0          Yes   \n",
       "\n",
       "          work_type Residence_type  avg_glucose_level   bmi   smoking_status  \\\n",
       "0           Private          Urban             228.69  36.6  formerly smoked   \n",
       "1     Self-employed          Rural             202.21   NaN     never smoked   \n",
       "2           Private          Rural             105.92  32.5     never smoked   \n",
       "3           Private          Urban             171.23  34.4           smokes   \n",
       "4     Self-employed          Rural             174.12  24.0     never smoked   \n",
       "...             ...            ...                ...   ...              ...   \n",
       "5105        Private          Urban              83.75   NaN     never smoked   \n",
       "5106  Self-employed          Urban             125.20  40.0     never smoked   \n",
       "5107  Self-employed          Rural              82.99  30.6     never smoked   \n",
       "5108        Private          Rural             166.29  25.6  formerly smoked   \n",
       "5109       Govt_job          Urban              85.28  26.2          Unknown   \n",
       "\n",
       "      stroke  \n",
       "0          1  \n",
       "1          1  \n",
       "2          1  \n",
       "3          1  \n",
       "4          1  \n",
       "...      ...  \n",
       "5105       0  \n",
       "5106       0  \n",
       "5107       0  \n",
       "5108       0  \n",
       "5109       0  \n",
       "\n",
       "[5110 rows x 12 columns]"
      ]
     },
     "execution_count": 2,
     "metadata": {},
     "output_type": "execute_result"
    }
   ],
   "source": [
    "df = pd.read_csv(\"healthcare-dataset-stroke-data.csv\")\n",
    "df"
   ]
  },
  {
   "cell_type": "markdown",
   "id": "4996ca1f-399f-428f-b515-c2686c796f75",
   "metadata": {},
   "source": [
    "### Memilih Atribut X dan y"
   ]
  },
  {
   "cell_type": "code",
   "execution_count": 3,
   "id": "eab220db-3ed9-4ab1-82f5-381110412cf0",
   "metadata": {},
   "outputs": [],
   "source": [
    "x = df[['age', 'avg_glucose_level']]\n",
    "y = df['hypertension']"
   ]
  },
  {
   "cell_type": "markdown",
   "id": "df69559d-4052-4fd2-a250-444b236aed75",
   "metadata": {},
   "source": [
    "### Membagi Training Set dan Test Set"
   ]
  },
  {
   "cell_type": "code",
   "execution_count": 4,
   "id": "0bc7d47e-65a5-4116-a1e0-58ce926f1d67",
   "metadata": {},
   "outputs": [],
   "source": [
    "x_train, x_test, y_train, y_test = train_test_split(x,y,test_size=0.2,random_state=42)"
   ]
  },
  {
   "cell_type": "code",
   "execution_count": 5,
   "id": "32102bc9-f957-4385-a9d3-d5b8260f67cb",
   "metadata": {},
   "outputs": [
    {
     "name": "stdout",
     "output_type": "stream",
     "text": [
      "dimensi x train :  (4088, 2)\n",
      "dimensi x test :  (1022, 2)\n",
      "dimensi y train :  (4088,)\n",
      "dimensi y test :  (1022,)\n"
     ]
    }
   ],
   "source": [
    "print (\"dimensi x train : \" , x_train.shape)\n",
    "print (\"dimensi x test : \" , x_test.shape)\n",
    "print (\"dimensi y train : \" , y_train.shape)\n",
    "print (\"dimensi y test : \" , y_test.shape)"
   ]
  },
  {
   "cell_type": "markdown",
   "id": "a3b8d22f-513d-46d4-9df7-4fcef6ffb064",
   "metadata": {},
   "source": [
    "### Preprocessing memakai Normalisasi"
   ]
  },
  {
   "cell_type": "code",
   "execution_count": 6,
   "id": "7778f1d8-dfad-40ee-a497-d90afccb9d93",
   "metadata": {},
   "outputs": [],
   "source": [
    "scaler = StandardScaler()\n",
    "x_train = scaler.fit_transform(x_train)\n",
    "x_test = scaler.transform(x_test)"
   ]
  },
  {
   "cell_type": "markdown",
   "id": "71c7addd-bcad-42f0-9c56-8aabcfec3ee0",
   "metadata": {},
   "source": [
    "### Sequential"
   ]
  },
  {
   "cell_type": "code",
   "execution_count": 7,
   "id": "a9aea3d0-a9b8-4f9c-a65a-b9944e9086bc",
   "metadata": {},
   "outputs": [],
   "source": [
    "model = keras.Sequential([\n",
    "    keras.layers.Dense(64, activation='relu', input_shape=(2,)),\n",
    "    keras.layers.Dense(32, activation='relu'),\n",
    "    keras.layers.Dense(1, activation='sigmoid')\n",
    "])"
   ]
  },
  {
   "cell_type": "markdown",
   "id": "ab799d01-5af5-4f8f-aebf-399587356c22",
   "metadata": {},
   "source": [
    "### Compile model menggunakan binary_crossentropy accuracy"
   ]
  },
  {
   "cell_type": "code",
   "execution_count": 8,
   "id": "b7d12bfe-dbf6-431e-a3f6-920406c3b289",
   "metadata": {},
   "outputs": [],
   "source": [
    "model.compile(optimizer='adam',loss='binary_crossentropy',metrics=['accuracy'])"
   ]
  },
  {
   "cell_type": "markdown",
   "id": "0b50c707-e941-4bd6-aec5-1744478d635b",
   "metadata": {},
   "source": [
    "### Melatih Model"
   ]
  },
  {
   "cell_type": "code",
   "execution_count": 9,
   "id": "39d1ad4a-a465-4ea1-8c10-cae4fddb0d66",
   "metadata": {},
   "outputs": [
    {
     "name": "stdout",
     "output_type": "stream",
     "text": [
      "Epoch 1/50\n",
      "115/115 [==============================] - 1s 4ms/step - loss: 0.3936 - accuracy: 0.9021 - val_loss: 0.2443 - val_accuracy: 0.9169\n",
      "Epoch 2/50\n",
      "115/115 [==============================] - 0s 2ms/step - loss: 0.2705 - accuracy: 0.9049 - val_loss: 0.2381 - val_accuracy: 0.9169\n",
      "Epoch 3/50\n",
      "115/115 [==============================] - 0s 2ms/step - loss: 0.2675 - accuracy: 0.9049 - val_loss: 0.2309 - val_accuracy: 0.9169\n",
      "Epoch 4/50\n",
      "115/115 [==============================] - 0s 2ms/step - loss: 0.2651 - accuracy: 0.9049 - val_loss: 0.2298 - val_accuracy: 0.9169\n",
      "Epoch 5/50\n",
      "115/115 [==============================] - 0s 2ms/step - loss: 0.2650 - accuracy: 0.9049 - val_loss: 0.2299 - val_accuracy: 0.9169\n",
      "Epoch 6/50\n",
      "115/115 [==============================] - 0s 2ms/step - loss: 0.2644 - accuracy: 0.9049 - val_loss: 0.2312 - val_accuracy: 0.9169\n",
      "Epoch 7/50\n",
      "115/115 [==============================] - 0s 2ms/step - loss: 0.2638 - accuracy: 0.9049 - val_loss: 0.2318 - val_accuracy: 0.9169\n",
      "Epoch 8/50\n",
      "115/115 [==============================] - 0s 3ms/step - loss: 0.2634 - accuracy: 0.9049 - val_loss: 0.2299 - val_accuracy: 0.9169\n",
      "Epoch 9/50\n",
      "115/115 [==============================] - 0s 3ms/step - loss: 0.2640 - accuracy: 0.9049 - val_loss: 0.2286 - val_accuracy: 0.9169\n",
      "Epoch 10/50\n",
      "115/115 [==============================] - 0s 3ms/step - loss: 0.2638 - accuracy: 0.9049 - val_loss: 0.2304 - val_accuracy: 0.9169\n",
      "Epoch 11/50\n",
      "115/115 [==============================] - 0s 3ms/step - loss: 0.2643 - accuracy: 0.9049 - val_loss: 0.2304 - val_accuracy: 0.9169\n",
      "Epoch 12/50\n",
      "115/115 [==============================] - 0s 3ms/step - loss: 0.2634 - accuracy: 0.9049 - val_loss: 0.2297 - val_accuracy: 0.9169\n",
      "Epoch 13/50\n",
      "115/115 [==============================] - 0s 3ms/step - loss: 0.2637 - accuracy: 0.9049 - val_loss: 0.2319 - val_accuracy: 0.9169\n",
      "Epoch 14/50\n",
      "115/115 [==============================] - 0s 2ms/step - loss: 0.2641 - accuracy: 0.9049 - val_loss: 0.2292 - val_accuracy: 0.9169\n",
      "Epoch 15/50\n",
      "115/115 [==============================] - 0s 2ms/step - loss: 0.2640 - accuracy: 0.9049 - val_loss: 0.2299 - val_accuracy: 0.9169\n",
      "Epoch 16/50\n",
      "115/115 [==============================] - 0s 3ms/step - loss: 0.2632 - accuracy: 0.9049 - val_loss: 0.2324 - val_accuracy: 0.9169\n",
      "Epoch 17/50\n",
      "115/115 [==============================] - 0s 3ms/step - loss: 0.2636 - accuracy: 0.9049 - val_loss: 0.2293 - val_accuracy: 0.9169\n",
      "Epoch 18/50\n",
      "115/115 [==============================] - 0s 2ms/step - loss: 0.2643 - accuracy: 0.9049 - val_loss: 0.2290 - val_accuracy: 0.9169\n",
      "Epoch 19/50\n",
      "115/115 [==============================] - 0s 3ms/step - loss: 0.2637 - accuracy: 0.9049 - val_loss: 0.2304 - val_accuracy: 0.9169\n",
      "Epoch 20/50\n",
      "115/115 [==============================] - 0s 3ms/step - loss: 0.2630 - accuracy: 0.9049 - val_loss: 0.2301 - val_accuracy: 0.9169\n",
      "Epoch 21/50\n",
      "115/115 [==============================] - 0s 2ms/step - loss: 0.2632 - accuracy: 0.9049 - val_loss: 0.2319 - val_accuracy: 0.9169\n",
      "Epoch 22/50\n",
      "115/115 [==============================] - 0s 2ms/step - loss: 0.2626 - accuracy: 0.9049 - val_loss: 0.2308 - val_accuracy: 0.9169\n",
      "Epoch 23/50\n",
      "115/115 [==============================] - 0s 2ms/step - loss: 0.2630 - accuracy: 0.9049 - val_loss: 0.2304 - val_accuracy: 0.9169\n",
      "Epoch 24/50\n",
      "115/115 [==============================] - 0s 2ms/step - loss: 0.2629 - accuracy: 0.9049 - val_loss: 0.2299 - val_accuracy: 0.9169\n",
      "Epoch 25/50\n",
      "115/115 [==============================] - 0s 2ms/step - loss: 0.2630 - accuracy: 0.9049 - val_loss: 0.2305 - val_accuracy: 0.9169\n",
      "Epoch 26/50\n",
      "115/115 [==============================] - 0s 2ms/step - loss: 0.2629 - accuracy: 0.9049 - val_loss: 0.2307 - val_accuracy: 0.9169\n",
      "Epoch 27/50\n",
      "115/115 [==============================] - 0s 2ms/step - loss: 0.2628 - accuracy: 0.9049 - val_loss: 0.2301 - val_accuracy: 0.9169\n",
      "Epoch 28/50\n",
      "115/115 [==============================] - 0s 2ms/step - loss: 0.2627 - accuracy: 0.9049 - val_loss: 0.2296 - val_accuracy: 0.9169\n",
      "Epoch 29/50\n",
      "115/115 [==============================] - 0s 2ms/step - loss: 0.2626 - accuracy: 0.9049 - val_loss: 0.2300 - val_accuracy: 0.9169\n",
      "Epoch 30/50\n",
      "115/115 [==============================] - 0s 2ms/step - loss: 0.2627 - accuracy: 0.9049 - val_loss: 0.2305 - val_accuracy: 0.9169\n",
      "Epoch 31/50\n",
      "115/115 [==============================] - 0s 2ms/step - loss: 0.2626 - accuracy: 0.9049 - val_loss: 0.2328 - val_accuracy: 0.9169\n",
      "Epoch 32/50\n",
      "115/115 [==============================] - 0s 3ms/step - loss: 0.2630 - accuracy: 0.9049 - val_loss: 0.2313 - val_accuracy: 0.9169\n",
      "Epoch 33/50\n",
      "115/115 [==============================] - 0s 3ms/step - loss: 0.2625 - accuracy: 0.9049 - val_loss: 0.2313 - val_accuracy: 0.9169\n",
      "Epoch 34/50\n",
      "115/115 [==============================] - 0s 2ms/step - loss: 0.2629 - accuracy: 0.9049 - val_loss: 0.2302 - val_accuracy: 0.9169\n",
      "Epoch 35/50\n",
      "115/115 [==============================] - 0s 3ms/step - loss: 0.2628 - accuracy: 0.9049 - val_loss: 0.2288 - val_accuracy: 0.9169\n",
      "Epoch 36/50\n",
      "115/115 [==============================] - 0s 3ms/step - loss: 0.2632 - accuracy: 0.9049 - val_loss: 0.2304 - val_accuracy: 0.9169\n",
      "Epoch 37/50\n",
      "115/115 [==============================] - 0s 2ms/step - loss: 0.2632 - accuracy: 0.9049 - val_loss: 0.2298 - val_accuracy: 0.9169\n",
      "Epoch 38/50\n",
      "115/115 [==============================] - 0s 2ms/step - loss: 0.2628 - accuracy: 0.9049 - val_loss: 0.2301 - val_accuracy: 0.9169\n",
      "Epoch 39/50\n",
      "115/115 [==============================] - 0s 2ms/step - loss: 0.2628 - accuracy: 0.9049 - val_loss: 0.2335 - val_accuracy: 0.9169\n",
      "Epoch 40/50\n",
      "115/115 [==============================] - 0s 2ms/step - loss: 0.2617 - accuracy: 0.9049 - val_loss: 0.2300 - val_accuracy: 0.9169\n",
      "Epoch 41/50\n",
      "115/115 [==============================] - 0s 2ms/step - loss: 0.2632 - accuracy: 0.9049 - val_loss: 0.2293 - val_accuracy: 0.9169\n",
      "Epoch 42/50\n",
      "115/115 [==============================] - 0s 2ms/step - loss: 0.2630 - accuracy: 0.9049 - val_loss: 0.2304 - val_accuracy: 0.9169\n",
      "Epoch 43/50\n",
      "115/115 [==============================] - 0s 2ms/step - loss: 0.2624 - accuracy: 0.9049 - val_loss: 0.2299 - val_accuracy: 0.9169\n",
      "Epoch 44/50\n",
      "115/115 [==============================] - 0s 2ms/step - loss: 0.2621 - accuracy: 0.9049 - val_loss: 0.2302 - val_accuracy: 0.9169\n",
      "Epoch 45/50\n",
      "115/115 [==============================] - 0s 2ms/step - loss: 0.2624 - accuracy: 0.9049 - val_loss: 0.2298 - val_accuracy: 0.9169\n",
      "Epoch 46/50\n",
      "115/115 [==============================] - 0s 2ms/step - loss: 0.2625 - accuracy: 0.9049 - val_loss: 0.2296 - val_accuracy: 0.9169\n",
      "Epoch 47/50\n",
      "115/115 [==============================] - 0s 3ms/step - loss: 0.2627 - accuracy: 0.9049 - val_loss: 0.2300 - val_accuracy: 0.9169\n",
      "Epoch 48/50\n",
      "115/115 [==============================] - 0s 2ms/step - loss: 0.2622 - accuracy: 0.9049 - val_loss: 0.2313 - val_accuracy: 0.9169\n",
      "Epoch 49/50\n",
      "115/115 [==============================] - 0s 2ms/step - loss: 0.2629 - accuracy: 0.9049 - val_loss: 0.2291 - val_accuracy: 0.9169\n",
      "Epoch 50/50\n",
      "115/115 [==============================] - 0s 3ms/step - loss: 0.2629 - accuracy: 0.9049 - val_loss: 0.2310 - val_accuracy: 0.9169\n"
     ]
    }
   ],
   "source": [
    "history = model.fit(x_train,y_train,epochs=50,batch_size=32,validation_split=0.1)"
   ]
  },
  {
   "cell_type": "markdown",
   "id": "171467b3-8706-4c7b-b9d0-4b2a375b99bc",
   "metadata": {},
   "source": [
    "### Melatih Model dengan Accurasy"
   ]
  },
  {
   "cell_type": "code",
   "execution_count": 11,
   "id": "2f98bc77-64d1-42a9-ac8e-d48a8a61ae43",
   "metadata": {},
   "outputs": [
    {
     "name": "stdout",
     "output_type": "stream",
     "text": [
      "32/32 [==============================] - 0s 1ms/step\n"
     ]
    }
   ],
   "source": [
    "y_pred = (model.predict(x_test) > 0.5).astype('int32')\n",
    "accuracy = accuracy_score(y_test,y_pred)"
   ]
  },
  {
   "cell_type": "markdown",
   "id": "333ee8b4-3efd-4265-bb78-ff6e06e7575c",
   "metadata": {},
   "source": [
    "### Grafik Accurasy"
   ]
  },
  {
   "cell_type": "code",
   "execution_count": 12,
   "id": "d50bd0bd-3c71-4b00-9c07-7af3b270c3b9",
   "metadata": {},
   "outputs": [
    {
     "data": {
      "image/png": "[encoded data removed]",
      "text/plain": [
       "<Figure size 1200x400 with 1 Axes>"
      ]
     },
     "metadata": {},
     "output_type": "display_data"
    }
   ],
   "source": [
    "plt.figure(figsize=(12,4))\n",
    "plt.subplot(1,2,1)\n",
    "plt.plot(history.history['accuracy'], label='Accuracy Pelatihan')\n",
    "plt.plot(history.history['val_accuracy'], label='Accurasi Validasi')\n",
    "plt.xlabel('Epoch')\n",
    "plt.ylabel('Accuracy')\n",
    "plt.title('Grafik Accuracy')\n",
    "plt.legend(loc='lower right')\n",
    "plt.show()"
   ]
  },
  {
   "cell_type": "markdown",
   "id": "50ef8147-680b-432e-aeb1-b6807650dafa",
   "metadata": {},
   "source": [
    "### Grafik Loss"
   ]
  },
  {
   "cell_type": "code",
   "execution_count": 13,
   "id": "35108bfa-e7d0-4ed4-ac98-96c642d4a3de",
   "metadata": {},
   "outputs": [
    {
     "data": {
      "image/png": "[encoded data removed]",
      "text/plain": [
       "<Figure size 640x480 with 1 Axes>"
      ]
     },
     "metadata": {},
     "output_type": "display_data"
    }
   ],
   "source": [
    "plt.subplot(1,2,2)\n",
    "plt.plot(history.history['loss'],label='Loss Pelatihan')\n",
    "plt.plot(history.history['val_loss'], label='Loss Validasi')\n",
    "plt.xlabel('Epoch')\n",
    "plt.ylabel('Loss')\n",
    "plt.legend(loc='upper right')\n",
    "plt.title('Grafik Loss')\n",
    "plt.show()\n",
    "     "
   ]
  },
  {
   "cell_type": "markdown",
   "id": "6ae2ae32-7807-41be-aca6-ce4d901f8e83",
   "metadata": {},
   "source": [
    "### Nilai Akurasi Model"
   ]
  },
  {
   "cell_type": "code",
   "execution_count": 14,
   "id": "27210a0c-cedf-4801-a688-168c60d0bfa0",
   "metadata": {},
   "outputs": [
    {
     "name": "stdout",
     "output_type": "stream",
     "text": [
      "0.8884540117416829\n"
     ]
    }
   ],
   "source": [
    "print(accuracy)"
   ]
  },
  {
   "cell_type": "code",
   "execution_count": null,
   "id": "55cdc392-31f4-4a69-a14c-8afc883b2561",
   "metadata": {},
   "outputs": [],
   "source": []
  }
 ],
 "metadata": {
  "kernelspec": {
   "display_name": "Daviana_064",
   "language": "python",
   "name": "daviana_064"
  },
  "language_info": {
   "codemirror_mode": {
    "name": "ipython",
    "version": 3
   },
   "file_extension": ".py",
   "mimetype": "text/x-python",
   "name": "python",
   "nbconvert_exporter": "python",
   "pygments_lexer": "ipython3",
   "version": "3.10.7"
  }
 },
 "nbformat": 4,
 "nbformat_minor": 5
}
